{
  "nbformat": 4,
  "nbformat_minor": 0,
  "metadata": {
    "colab": {
      "provenance": [],
      "authorship_tag": "ABX9TyOhKmwl5Uh6XZKRD/7Vj5qi",
      "include_colab_link": true
    },
    "kernelspec": {
      "name": "python3",
      "display_name": "Python 3"
    },
    "language_info": {
      "name": "python"
    }
  },
  "cells": [
    {
      "cell_type": "markdown",
      "metadata": {
        "id": "view-in-github",
        "colab_type": "text"
      },
      "source": [
        "<a href=\"https://colab.research.google.com/github/jeffreyrsb/portfolio/blob/main/news_api.ipynb\" target=\"_parent\"><img src=\"https://colab.research.google.com/assets/colab-badge.svg\" alt=\"Open In Colab\"/></a>"
      ]
    },
    {
      "cell_type": "markdown",
      "source": [
        "# News API Integration:\n",
        "Developed a Python application to access and visualize real-time news data using an API, showcasing adept data retrieval and manipulation skills."
      ],
      "metadata": {
        "id": "cg_W9ZnXShLt"
      }
    },
    {
      "cell_type": "code",
      "source": [
        "# @title Run me\n",
        "!pip install requests\n",
        "\n",
        "import requests\n",
        "from IPython.display import display, HTML\n",
        "\n",
        "def fetch_news_by_category(category):\n",
        "    \"\"\"\n",
        "    Fetches top headlines by category using the News API.\n",
        "\n",
        "    Args:\n",
        "    category (str): The category of news to fetch. Options: business, entertainment, general, health, science, sports, technology.\n",
        "\n",
        "    Returns:\n",
        "    None\n",
        "    \"\"\"\n",
        "    # Define the base URL of the API\n",
        "    base_url = 'https://newsapi.org/v2/top-headlines?'\n",
        "\n",
        "    # Parameters of the request\n",
        "    params = {\n",
        "        'apiKey': 'd2802751c0c7467a8859a8472e24d3bd',\n",
        "        'category': category,\n",
        "        'language': 'en',  # English news only\n",
        "        'pageSize': 5,  # Limit to 5 news articles\n",
        "    }\n",
        "\n",
        "    # Make the request to the API\n",
        "    response = requests.get(base_url, params=params)\n",
        "\n",
        "    # Check if the request was successful\n",
        "    if response.status_code == 200:\n",
        "        # Convert the response to JSON format\n",
        "        data = response.json()\n",
        "\n",
        "        # Check if there are articles in the response\n",
        "        if data['totalResults'] > 0:\n",
        "            # Display each article\n",
        "            for article in data['articles']:\n",
        "                print(f\"Title: {article['title']}\")\n",
        "                print(f\"Source: {article['source']['name']}\")\n",
        "                print(f\"URL: {article['url']}\")\n",
        "\n",
        "                # Check if there is a description\n",
        "                if article['description']:\n",
        "                    print(f\"Description: {article['description']}\")\n",
        "                else:\n",
        "                    print(\"No description found.\")\n",
        "\n",
        "                # Check if there is an image URL\n",
        "                if article['urlToImage']:\n",
        "                    # Display the image in Google Colab\n",
        "                    display(HTML(f\"<img src='{article['urlToImage']}' alt='Article Image' width='400'>\"))\n",
        "                else:\n",
        "                    print(\"No image found.\")\n",
        "\n",
        "                print(\"----------------------------------------------------\")\n",
        "        else:\n",
        "            print(\"No articles found.\")\n",
        "    else:\n",
        "        print(\"Error making request to the API.\")\n",
        "\n",
        "# Ask the user to input the category of news they want to see\n",
        "category = input(\"Enter the category of news (business, entertainment, general, health, science, sports, technology): \")\n",
        "\n",
        "# Fetch news articles based on the user's input category\n",
        "fetch_news_by_category(category)\n"
      ],
      "metadata": {
        "cellView": "form",
        "id": "KKGsq--vinCV"
      },
      "execution_count": null,
      "outputs": []
    }
  ]
}