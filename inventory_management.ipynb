{
  "nbformat": 4,
  "nbformat_minor": 0,
  "metadata": {
    "colab": {
      "provenance": [],
      "authorship_tag": "ABX9TyORq7fWqV+udvX0PLdDNV7v",
      "include_colab_link": true
    },
    "kernelspec": {
      "name": "python3",
      "display_name": "Python 3"
    },
    "language_info": {
      "name": "python"
    }
  },
  "cells": [
    {
      "cell_type": "markdown",
      "metadata": {
        "id": "view-in-github",
        "colab_type": "text"
      },
      "source": [
        "<a href=\"https://colab.research.google.com/github/jeffreyrsb/portfolio/blob/main/inventory_management.ipynb\" target=\"_parent\"><img src=\"https://colab.research.google.com/assets/colab-badge.svg\" alt=\"Open In Colab\"/></a>"
      ]
    },
    {
      "cell_type": "code",
      "source": [
        "# @title Run me\n",
        "class InventoryManagementSystem:\n",
        "    def __init__(self):\n",
        "        self.inventory = {\n",
        "            'item1': {'quantity': 10, 'price': 5.99},\n",
        "            'item2': {'quantity': 20, 'price': 9.99},\n",
        "            'item3': {'quantity': 15, 'price': 12.99}\n",
        "        }\n",
        "\n",
        "    def display_inventory(self):\n",
        "        print(\"Current Inventory:\")\n",
        "        for item, details in self.inventory.items():\n",
        "            print(f\"Item: {item}, Quantity: {details['quantity']}, Price: ${details['price']}\")\n",
        "\n",
        "    def add_item(self, item, quantity, price):\n",
        "        if item in self.inventory:\n",
        "            print(\"Item already exists in the inventory.\")\n",
        "        else:\n",
        "            self.inventory[item] = {'quantity': quantity, 'price': price}\n",
        "            print(f\"Item '{item}' added to the inventory.\")\n",
        "\n",
        "    def remove_item(self, item):\n",
        "        if item in self.inventory:\n",
        "            del self.inventory[item]\n",
        "            print(f\"Item '{item}' removed from the inventory.\")\n",
        "        else:\n",
        "            print(\"Item not found in the inventory.\")\n",
        "\n",
        "    def modify_item(self, item):\n",
        "        if item in self.inventory:\n",
        "            print(f\"Current details for item '{item}': {self.inventory[item]}\")\n",
        "            quantity = int(input(\"Enter new quantity (leave blank to keep the same): \") or self.inventory[item]['quantity'])\n",
        "            price = float(input(\"Enter new price (leave blank to keep the same): \") or self.inventory[item]['price'])\n",
        "            confirm = input(\"Would you like to modify this item? (yes/no): \").lower()\n",
        "            if confirm == 'yes':\n",
        "                self.inventory[item]['quantity'] = quantity\n",
        "                self.inventory[item]['price'] = price\n",
        "                print(f\"Item '{item}' modified successfully.\")\n",
        "            else:\n",
        "                print(\"Operation cancelled.\")\n",
        "        else:\n",
        "            print(\"Item not found in the inventory.\")\n",
        "\n",
        "    def menu(self):\n",
        "        print(\"\\nInventory Management System Menu:\")\n",
        "        print(\"1. Display Inventory\")\n",
        "        print(\"2. Add Item\")\n",
        "        print(\"3. Remove Item\")\n",
        "        print(\"4. Modify Item\")\n",
        "        print(\"5. Exit\")\n",
        "        choice = input(\"Enter your choice: \")\n",
        "        return choice\n",
        "\n",
        "\n",
        "ims = InventoryManagementSystem()\n",
        "while True:\n",
        "    choice = ims.menu()\n",
        "    if choice == '1':\n",
        "        ims.display_inventory()\n",
        "    elif choice == '2':\n",
        "        item = input(\"Enter item name: \")\n",
        "        quantity = int(input(\"Enter quantity: \"))\n",
        "        price = float(input(\"Enter price: \"))\n",
        "        ims.add_item(item, quantity, price)\n",
        "    elif choice == '3':\n",
        "        item = input(\"Enter item name: \")\n",
        "        ims.remove_item(item)\n",
        "    elif choice == '4':\n",
        "        item = input(\"Enter item name to modify: \")\n",
        "        ims.modify_item(item)\n",
        "    elif choice == '5':\n",
        "        print(\"Exiting the Inventory Management System. Goodbye!\")\n",
        "        break\n",
        "    else:\n",
        "        print(\"Invalid choice. Please enter a number from 1 to 5.\")\n"
      ],
      "metadata": {
        "id": "2F4GSB1k-REY",
        "cellView": "form"
      },
      "execution_count": null,
      "outputs": []
    }
  ]
}